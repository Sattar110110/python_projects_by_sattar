import pandas as pd
import numpy as np
import seaborn as sns
import matplotlib.pyplot as plt
import datetime
df = pd.read_csv("C:\\Users\\n tech\Desktop\\python_for data science\\aapl2.csv")
df['Date'] = pd.to_datetime(df['Date'])
df['Date'] = df['Date'].apply(lambda x: x.replace(year=2024))
rng= pd.date_range(start= "1/01/2024", end= "1/30/2024", freq="B") # here B is business days
rng
# in this dataset weekemd are not added because this an business data
df.set_index(rng,inplace=True, )
df.head()
df.Close.plot()
df["2024-01-01":"2024-01-10"]
df["2024-01-01":"2024-01-10"].Close.mean()
# days including weekend
df.asfreq("D", method="pad")
np.random.randint(1,10,len(rng))
